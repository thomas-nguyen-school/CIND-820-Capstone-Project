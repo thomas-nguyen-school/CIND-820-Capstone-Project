{
 "cells": [
  {
   "cell_type": "code",
   "execution_count": 30,
   "metadata": {},
   "outputs": [],
   "source": [
    "#import libraries\n",
    "import pandas as pd\n",
    "import numpy as np\n",
    "import matplotlib.pyplot as plt\n",
    "import seaborn as sns"
   ]
  },
  {
   "cell_type": "code",
   "execution_count": 31,
   "metadata": {},
   "outputs": [],
   "source": [
    "df = pd.read_csv(\"SeoulBikeData.csv\",encoding='ISO-8859-1')"
   ]
  },
  {
   "cell_type": "code",
   "execution_count": 32,
   "metadata": {},
   "outputs": [
    {
     "data": {
      "text/plain": [
       "(8760, 14)"
      ]
     },
     "execution_count": 32,
     "metadata": {},
     "output_type": "execute_result"
    }
   ],
   "source": [
    "# number of rows and columns \n",
    "df.shape"
   ]
  },
  {
   "cell_type": "code",
   "execution_count": 33,
   "metadata": {},
   "outputs": [],
   "source": [
    "# Remove duplicates in data (no duplicates)\n",
    "df = df.drop_duplicates()"
   ]
  },
  {
   "cell_type": "code",
   "execution_count": 34,
   "metadata": {},
   "outputs": [
    {
     "data": {
      "text/plain": [
       "(8760, 14)"
      ]
     },
     "execution_count": 34,
     "metadata": {},
     "output_type": "execute_result"
    }
   ],
   "source": [
    "# check number of rows after dropping duplicates (if any) \n",
    "df.shape"
   ]
  },
  {
   "cell_type": "code",
   "execution_count": 35,
   "metadata": {},
   "outputs": [
    {
     "data": {
      "text/html": [
       "<div>\n",
       "<style scoped>\n",
       "    .dataframe tbody tr th:only-of-type {\n",
       "        vertical-align: middle;\n",
       "    }\n",
       "\n",
       "    .dataframe tbody tr th {\n",
       "        vertical-align: top;\n",
       "    }\n",
       "\n",
       "    .dataframe thead th {\n",
       "        text-align: right;\n",
       "    }\n",
       "</style>\n",
       "<table border=\"1\" class=\"dataframe\">\n",
       "  <thead>\n",
       "    <tr style=\"text-align: right;\">\n",
       "      <th></th>\n",
       "      <th>Date</th>\n",
       "      <th>Rented Bike Count</th>\n",
       "      <th>Hour</th>\n",
       "      <th>Temperature(°C)</th>\n",
       "      <th>Humidity(%)</th>\n",
       "      <th>Wind speed (m/s)</th>\n",
       "      <th>Visibility (10m)</th>\n",
       "      <th>Dew point temperature(°C)</th>\n",
       "      <th>Solar Radiation (MJ/m2)</th>\n",
       "      <th>Rainfall(mm)</th>\n",
       "      <th>Snowfall (cm)</th>\n",
       "      <th>Seasons</th>\n",
       "      <th>Holiday</th>\n",
       "      <th>Functioning Day</th>\n",
       "    </tr>\n",
       "  </thead>\n",
       "  <tbody>\n",
       "    <tr>\n",
       "      <th>0</th>\n",
       "      <td>01/12/2017</td>\n",
       "      <td>254</td>\n",
       "      <td>0</td>\n",
       "      <td>-5.2</td>\n",
       "      <td>37</td>\n",
       "      <td>2.2</td>\n",
       "      <td>2000</td>\n",
       "      <td>-17.6</td>\n",
       "      <td>0.0</td>\n",
       "      <td>0.0</td>\n",
       "      <td>0.0</td>\n",
       "      <td>Winter</td>\n",
       "      <td>No Holiday</td>\n",
       "      <td>Yes</td>\n",
       "    </tr>\n",
       "    <tr>\n",
       "      <th>1</th>\n",
       "      <td>01/12/2017</td>\n",
       "      <td>204</td>\n",
       "      <td>1</td>\n",
       "      <td>-5.5</td>\n",
       "      <td>38</td>\n",
       "      <td>0.8</td>\n",
       "      <td>2000</td>\n",
       "      <td>-17.6</td>\n",
       "      <td>0.0</td>\n",
       "      <td>0.0</td>\n",
       "      <td>0.0</td>\n",
       "      <td>Winter</td>\n",
       "      <td>No Holiday</td>\n",
       "      <td>Yes</td>\n",
       "    </tr>\n",
       "    <tr>\n",
       "      <th>2</th>\n",
       "      <td>01/12/2017</td>\n",
       "      <td>173</td>\n",
       "      <td>2</td>\n",
       "      <td>-6.0</td>\n",
       "      <td>39</td>\n",
       "      <td>1.0</td>\n",
       "      <td>2000</td>\n",
       "      <td>-17.7</td>\n",
       "      <td>0.0</td>\n",
       "      <td>0.0</td>\n",
       "      <td>0.0</td>\n",
       "      <td>Winter</td>\n",
       "      <td>No Holiday</td>\n",
       "      <td>Yes</td>\n",
       "    </tr>\n",
       "    <tr>\n",
       "      <th>3</th>\n",
       "      <td>01/12/2017</td>\n",
       "      <td>107</td>\n",
       "      <td>3</td>\n",
       "      <td>-6.2</td>\n",
       "      <td>40</td>\n",
       "      <td>0.9</td>\n",
       "      <td>2000</td>\n",
       "      <td>-17.6</td>\n",
       "      <td>0.0</td>\n",
       "      <td>0.0</td>\n",
       "      <td>0.0</td>\n",
       "      <td>Winter</td>\n",
       "      <td>No Holiday</td>\n",
       "      <td>Yes</td>\n",
       "    </tr>\n",
       "    <tr>\n",
       "      <th>4</th>\n",
       "      <td>01/12/2017</td>\n",
       "      <td>78</td>\n",
       "      <td>4</td>\n",
       "      <td>-6.0</td>\n",
       "      <td>36</td>\n",
       "      <td>2.3</td>\n",
       "      <td>2000</td>\n",
       "      <td>-18.6</td>\n",
       "      <td>0.0</td>\n",
       "      <td>0.0</td>\n",
       "      <td>0.0</td>\n",
       "      <td>Winter</td>\n",
       "      <td>No Holiday</td>\n",
       "      <td>Yes</td>\n",
       "    </tr>\n",
       "  </tbody>\n",
       "</table>\n",
       "</div>"
      ],
      "text/plain": [
       "         Date  Rented Bike Count  Hour  Temperature(°C)  Humidity(%)  \\\n",
       "0  01/12/2017                254     0             -5.2           37   \n",
       "1  01/12/2017                204     1             -5.5           38   \n",
       "2  01/12/2017                173     2             -6.0           39   \n",
       "3  01/12/2017                107     3             -6.2           40   \n",
       "4  01/12/2017                 78     4             -6.0           36   \n",
       "\n",
       "   Wind speed (m/s)  Visibility (10m)  Dew point temperature(°C)  \\\n",
       "0               2.2              2000                      -17.6   \n",
       "1               0.8              2000                      -17.6   \n",
       "2               1.0              2000                      -17.7   \n",
       "3               0.9              2000                      -17.6   \n",
       "4               2.3              2000                      -18.6   \n",
       "\n",
       "   Solar Radiation (MJ/m2)  Rainfall(mm)  Snowfall (cm) Seasons     Holiday  \\\n",
       "0                      0.0           0.0            0.0  Winter  No Holiday   \n",
       "1                      0.0           0.0            0.0  Winter  No Holiday   \n",
       "2                      0.0           0.0            0.0  Winter  No Holiday   \n",
       "3                      0.0           0.0            0.0  Winter  No Holiday   \n",
       "4                      0.0           0.0            0.0  Winter  No Holiday   \n",
       "\n",
       "  Functioning Day  \n",
       "0             Yes  \n",
       "1             Yes  \n",
       "2             Yes  \n",
       "3             Yes  \n",
       "4             Yes  "
      ]
     },
     "execution_count": 35,
     "metadata": {},
     "output_type": "execute_result"
    }
   ],
   "source": [
    "# first 5 rows \n",
    "df.head()"
   ]
  },
  {
   "cell_type": "code",
   "execution_count": 36,
   "metadata": {},
   "outputs": [
    {
     "data": {
      "text/html": [
       "<div>\n",
       "<style scoped>\n",
       "    .dataframe tbody tr th:only-of-type {\n",
       "        vertical-align: middle;\n",
       "    }\n",
       "\n",
       "    .dataframe tbody tr th {\n",
       "        vertical-align: top;\n",
       "    }\n",
       "\n",
       "    .dataframe thead th {\n",
       "        text-align: right;\n",
       "    }\n",
       "</style>\n",
       "<table border=\"1\" class=\"dataframe\">\n",
       "  <thead>\n",
       "    <tr style=\"text-align: right;\">\n",
       "      <th></th>\n",
       "      <th>Date</th>\n",
       "      <th>Rented Bike Count</th>\n",
       "      <th>Hour</th>\n",
       "      <th>Temperature(°C)</th>\n",
       "      <th>Humidity(%)</th>\n",
       "      <th>Wind speed (m/s)</th>\n",
       "      <th>Visibility (10m)</th>\n",
       "      <th>Dew point temperature(°C)</th>\n",
       "      <th>Solar Radiation (MJ/m2)</th>\n",
       "      <th>Rainfall(mm)</th>\n",
       "      <th>Snowfall (cm)</th>\n",
       "      <th>Seasons</th>\n",
       "      <th>Holiday</th>\n",
       "      <th>Functioning Day</th>\n",
       "    </tr>\n",
       "  </thead>\n",
       "  <tbody>\n",
       "    <tr>\n",
       "      <th>8755</th>\n",
       "      <td>30/11/2018</td>\n",
       "      <td>1003</td>\n",
       "      <td>19</td>\n",
       "      <td>4.2</td>\n",
       "      <td>34</td>\n",
       "      <td>2.6</td>\n",
       "      <td>1894</td>\n",
       "      <td>-10.3</td>\n",
       "      <td>0.0</td>\n",
       "      <td>0.0</td>\n",
       "      <td>0.0</td>\n",
       "      <td>Autumn</td>\n",
       "      <td>No Holiday</td>\n",
       "      <td>Yes</td>\n",
       "    </tr>\n",
       "    <tr>\n",
       "      <th>8756</th>\n",
       "      <td>30/11/2018</td>\n",
       "      <td>764</td>\n",
       "      <td>20</td>\n",
       "      <td>3.4</td>\n",
       "      <td>37</td>\n",
       "      <td>2.3</td>\n",
       "      <td>2000</td>\n",
       "      <td>-9.9</td>\n",
       "      <td>0.0</td>\n",
       "      <td>0.0</td>\n",
       "      <td>0.0</td>\n",
       "      <td>Autumn</td>\n",
       "      <td>No Holiday</td>\n",
       "      <td>Yes</td>\n",
       "    </tr>\n",
       "    <tr>\n",
       "      <th>8757</th>\n",
       "      <td>30/11/2018</td>\n",
       "      <td>694</td>\n",
       "      <td>21</td>\n",
       "      <td>2.6</td>\n",
       "      <td>39</td>\n",
       "      <td>0.3</td>\n",
       "      <td>1968</td>\n",
       "      <td>-9.9</td>\n",
       "      <td>0.0</td>\n",
       "      <td>0.0</td>\n",
       "      <td>0.0</td>\n",
       "      <td>Autumn</td>\n",
       "      <td>No Holiday</td>\n",
       "      <td>Yes</td>\n",
       "    </tr>\n",
       "    <tr>\n",
       "      <th>8758</th>\n",
       "      <td>30/11/2018</td>\n",
       "      <td>712</td>\n",
       "      <td>22</td>\n",
       "      <td>2.1</td>\n",
       "      <td>41</td>\n",
       "      <td>1.0</td>\n",
       "      <td>1859</td>\n",
       "      <td>-9.8</td>\n",
       "      <td>0.0</td>\n",
       "      <td>0.0</td>\n",
       "      <td>0.0</td>\n",
       "      <td>Autumn</td>\n",
       "      <td>No Holiday</td>\n",
       "      <td>Yes</td>\n",
       "    </tr>\n",
       "    <tr>\n",
       "      <th>8759</th>\n",
       "      <td>30/11/2018</td>\n",
       "      <td>584</td>\n",
       "      <td>23</td>\n",
       "      <td>1.9</td>\n",
       "      <td>43</td>\n",
       "      <td>1.3</td>\n",
       "      <td>1909</td>\n",
       "      <td>-9.3</td>\n",
       "      <td>0.0</td>\n",
       "      <td>0.0</td>\n",
       "      <td>0.0</td>\n",
       "      <td>Autumn</td>\n",
       "      <td>No Holiday</td>\n",
       "      <td>Yes</td>\n",
       "    </tr>\n",
       "  </tbody>\n",
       "</table>\n",
       "</div>"
      ],
      "text/plain": [
       "            Date  Rented Bike Count  Hour  Temperature(°C)  Humidity(%)  \\\n",
       "8755  30/11/2018               1003    19              4.2           34   \n",
       "8756  30/11/2018                764    20              3.4           37   \n",
       "8757  30/11/2018                694    21              2.6           39   \n",
       "8758  30/11/2018                712    22              2.1           41   \n",
       "8759  30/11/2018                584    23              1.9           43   \n",
       "\n",
       "      Wind speed (m/s)  Visibility (10m)  Dew point temperature(°C)  \\\n",
       "8755               2.6              1894                      -10.3   \n",
       "8756               2.3              2000                       -9.9   \n",
       "8757               0.3              1968                       -9.9   \n",
       "8758               1.0              1859                       -9.8   \n",
       "8759               1.3              1909                       -9.3   \n",
       "\n",
       "      Solar Radiation (MJ/m2)  Rainfall(mm)  Snowfall (cm) Seasons  \\\n",
       "8755                      0.0           0.0            0.0  Autumn   \n",
       "8756                      0.0           0.0            0.0  Autumn   \n",
       "8757                      0.0           0.0            0.0  Autumn   \n",
       "8758                      0.0           0.0            0.0  Autumn   \n",
       "8759                      0.0           0.0            0.0  Autumn   \n",
       "\n",
       "         Holiday Functioning Day  \n",
       "8755  No Holiday             Yes  \n",
       "8756  No Holiday             Yes  \n",
       "8757  No Holiday             Yes  \n",
       "8758  No Holiday             Yes  \n",
       "8759  No Holiday             Yes  "
      ]
     },
     "execution_count": 36,
     "metadata": {},
     "output_type": "execute_result"
    }
   ],
   "source": [
    "# last 5 rows \n",
    "df.tail()"
   ]
  },
  {
   "cell_type": "code",
   "execution_count": 37,
   "metadata": {},
   "outputs": [
    {
     "data": {
      "text/plain": [
       "Index(['Date', 'Rented Bike Count', 'Hour', 'Temperature(°C)', 'Humidity(%)',\n",
       "       'Wind speed (m/s)', 'Visibility (10m)', 'Dew point temperature(°C)',\n",
       "       'Solar Radiation (MJ/m2)', 'Rainfall(mm)', 'Snowfall (cm)', 'Seasons',\n",
       "       'Holiday', 'Functioning Day'],\n",
       "      dtype='object')"
      ]
     },
     "execution_count": 37,
     "metadata": {},
     "output_type": "execute_result"
    }
   ],
   "source": [
    "#column headers \n",
    "df.columns"
   ]
  },
  {
   "cell_type": "code",
   "execution_count": 38,
   "metadata": {},
   "outputs": [
    {
     "name": "stdout",
     "output_type": "stream",
     "text": [
      "<class 'pandas.core.frame.DataFrame'>\n",
      "Int64Index: 8760 entries, 0 to 8759\n",
      "Data columns (total 14 columns):\n",
      " #   Column                     Non-Null Count  Dtype  \n",
      "---  ------                     --------------  -----  \n",
      " 0   Date                       8760 non-null   object \n",
      " 1   Rented Bike Count          8760 non-null   int64  \n",
      " 2   Hour                       8760 non-null   int64  \n",
      " 3   Temperature(°C)            8760 non-null   float64\n",
      " 4   Humidity(%)                8760 non-null   int64  \n",
      " 5   Wind speed (m/s)           8760 non-null   float64\n",
      " 6   Visibility (10m)           8760 non-null   int64  \n",
      " 7   Dew point temperature(°C)  8760 non-null   float64\n",
      " 8   Solar Radiation (MJ/m2)    8760 non-null   float64\n",
      " 9   Rainfall(mm)               8760 non-null   float64\n",
      " 10  Snowfall (cm)              8760 non-null   float64\n",
      " 11  Seasons                    8760 non-null   object \n",
      " 12  Holiday                    8760 non-null   object \n",
      " 13  Functioning Day            8760 non-null   object \n",
      "dtypes: float64(6), int64(4), object(4)\n",
      "memory usage: 1.0+ MB\n"
     ]
    }
   ],
   "source": [
    "#basic information for all columns (data type and null)\n",
    "df.info()"
   ]
  },
  {
   "cell_type": "code",
   "execution_count": 64,
   "metadata": {},
   "outputs": [
    {
     "data": {
      "text/html": [
       "<div>\n",
       "<style scoped>\n",
       "    .dataframe tbody tr th:only-of-type {\n",
       "        vertical-align: middle;\n",
       "    }\n",
       "\n",
       "    .dataframe tbody tr th {\n",
       "        vertical-align: top;\n",
       "    }\n",
       "\n",
       "    .dataframe thead th {\n",
       "        text-align: right;\n",
       "    }\n",
       "</style>\n",
       "<table border=\"1\" class=\"dataframe\">\n",
       "  <thead>\n",
       "    <tr style=\"text-align: right;\">\n",
       "      <th></th>\n",
       "      <th>Rented Bike Count</th>\n",
       "      <th>Hour</th>\n",
       "      <th>Temp</th>\n",
       "      <th>Humidity(%)</th>\n",
       "      <th>Wind speed (m/s)</th>\n",
       "      <th>Visibility (10m)</th>\n",
       "      <th>Dew_Pt_Temp</th>\n",
       "      <th>Solar Radiation (MJ/m2)</th>\n",
       "      <th>Rainfall(mm)</th>\n",
       "      <th>Snowfall (cm)</th>\n",
       "      <th>Month</th>\n",
       "    </tr>\n",
       "  </thead>\n",
       "  <tbody>\n",
       "    <tr>\n",
       "      <th>count</th>\n",
       "      <td>8760.000000</td>\n",
       "      <td>8760.000000</td>\n",
       "      <td>8760.000000</td>\n",
       "      <td>8760.000000</td>\n",
       "      <td>8760.000000</td>\n",
       "      <td>8760.000000</td>\n",
       "      <td>8760.000000</td>\n",
       "      <td>8760.000000</td>\n",
       "      <td>8760.000000</td>\n",
       "      <td>8760.000000</td>\n",
       "      <td>8760.000000</td>\n",
       "    </tr>\n",
       "    <tr>\n",
       "      <th>mean</th>\n",
       "      <td>704.602055</td>\n",
       "      <td>11.500000</td>\n",
       "      <td>12.882922</td>\n",
       "      <td>58.226256</td>\n",
       "      <td>1.724909</td>\n",
       "      <td>1436.825799</td>\n",
       "      <td>4.073813</td>\n",
       "      <td>0.569111</td>\n",
       "      <td>0.148687</td>\n",
       "      <td>0.075068</td>\n",
       "      <td>6.526027</td>\n",
       "    </tr>\n",
       "    <tr>\n",
       "      <th>std</th>\n",
       "      <td>644.997468</td>\n",
       "      <td>6.922582</td>\n",
       "      <td>11.944825</td>\n",
       "      <td>20.362413</td>\n",
       "      <td>1.036300</td>\n",
       "      <td>608.298712</td>\n",
       "      <td>13.060369</td>\n",
       "      <td>0.868746</td>\n",
       "      <td>1.128193</td>\n",
       "      <td>0.436746</td>\n",
       "      <td>3.448048</td>\n",
       "    </tr>\n",
       "    <tr>\n",
       "      <th>min</th>\n",
       "      <td>0.000000</td>\n",
       "      <td>0.000000</td>\n",
       "      <td>-17.800000</td>\n",
       "      <td>0.000000</td>\n",
       "      <td>0.000000</td>\n",
       "      <td>27.000000</td>\n",
       "      <td>-30.600000</td>\n",
       "      <td>0.000000</td>\n",
       "      <td>0.000000</td>\n",
       "      <td>0.000000</td>\n",
       "      <td>1.000000</td>\n",
       "    </tr>\n",
       "    <tr>\n",
       "      <th>25%</th>\n",
       "      <td>191.000000</td>\n",
       "      <td>5.750000</td>\n",
       "      <td>3.500000</td>\n",
       "      <td>42.000000</td>\n",
       "      <td>0.900000</td>\n",
       "      <td>940.000000</td>\n",
       "      <td>-4.700000</td>\n",
       "      <td>0.000000</td>\n",
       "      <td>0.000000</td>\n",
       "      <td>0.000000</td>\n",
       "      <td>4.000000</td>\n",
       "    </tr>\n",
       "    <tr>\n",
       "      <th>50%</th>\n",
       "      <td>504.500000</td>\n",
       "      <td>11.500000</td>\n",
       "      <td>13.700000</td>\n",
       "      <td>57.000000</td>\n",
       "      <td>1.500000</td>\n",
       "      <td>1698.000000</td>\n",
       "      <td>5.100000</td>\n",
       "      <td>0.010000</td>\n",
       "      <td>0.000000</td>\n",
       "      <td>0.000000</td>\n",
       "      <td>7.000000</td>\n",
       "    </tr>\n",
       "    <tr>\n",
       "      <th>75%</th>\n",
       "      <td>1065.250000</td>\n",
       "      <td>17.250000</td>\n",
       "      <td>22.500000</td>\n",
       "      <td>74.000000</td>\n",
       "      <td>2.300000</td>\n",
       "      <td>2000.000000</td>\n",
       "      <td>14.800000</td>\n",
       "      <td>0.930000</td>\n",
       "      <td>0.000000</td>\n",
       "      <td>0.000000</td>\n",
       "      <td>10.000000</td>\n",
       "    </tr>\n",
       "    <tr>\n",
       "      <th>max</th>\n",
       "      <td>3556.000000</td>\n",
       "      <td>23.000000</td>\n",
       "      <td>39.400000</td>\n",
       "      <td>98.000000</td>\n",
       "      <td>7.400000</td>\n",
       "      <td>2000.000000</td>\n",
       "      <td>27.200000</td>\n",
       "      <td>3.520000</td>\n",
       "      <td>35.000000</td>\n",
       "      <td>8.800000</td>\n",
       "      <td>12.000000</td>\n",
       "    </tr>\n",
       "  </tbody>\n",
       "</table>\n",
       "</div>"
      ],
      "text/plain": [
       "       Rented Bike Count         Hour         Temp  Humidity(%)  \\\n",
       "count        8760.000000  8760.000000  8760.000000  8760.000000   \n",
       "mean          704.602055    11.500000    12.882922    58.226256   \n",
       "std           644.997468     6.922582    11.944825    20.362413   \n",
       "min             0.000000     0.000000   -17.800000     0.000000   \n",
       "25%           191.000000     5.750000     3.500000    42.000000   \n",
       "50%           504.500000    11.500000    13.700000    57.000000   \n",
       "75%          1065.250000    17.250000    22.500000    74.000000   \n",
       "max          3556.000000    23.000000    39.400000    98.000000   \n",
       "\n",
       "       Wind speed (m/s)  Visibility (10m)  Dew_Pt_Temp  \\\n",
       "count       8760.000000       8760.000000  8760.000000   \n",
       "mean           1.724909       1436.825799     4.073813   \n",
       "std            1.036300        608.298712    13.060369   \n",
       "min            0.000000         27.000000   -30.600000   \n",
       "25%            0.900000        940.000000    -4.700000   \n",
       "50%            1.500000       1698.000000     5.100000   \n",
       "75%            2.300000       2000.000000    14.800000   \n",
       "max            7.400000       2000.000000    27.200000   \n",
       "\n",
       "       Solar Radiation (MJ/m2)  Rainfall(mm)  Snowfall (cm)        Month  \n",
       "count              8760.000000   8760.000000    8760.000000  8760.000000  \n",
       "mean                  0.569111      0.148687       0.075068     6.526027  \n",
       "std                   0.868746      1.128193       0.436746     3.448048  \n",
       "min                   0.000000      0.000000       0.000000     1.000000  \n",
       "25%                   0.000000      0.000000       0.000000     4.000000  \n",
       "50%                   0.010000      0.000000       0.000000     7.000000  \n",
       "75%                   0.930000      0.000000       0.000000    10.000000  \n",
       "max                   3.520000     35.000000       8.800000    12.000000  "
      ]
     },
     "execution_count": 64,
     "metadata": {},
     "output_type": "execute_result"
    }
   ],
   "source": [
    "# basic statistics on numeric columns\n",
    "df.describe()"
   ]
  },
  {
   "cell_type": "code",
   "execution_count": 40,
   "metadata": {},
   "outputs": [],
   "source": [
    "# Rename columns \n",
    "df = df.rename(columns={'Temperature(°C)': 'Temp', 'Dew point temperature(°C)': 'Dew_Pt_Temp'})"
   ]
  },
  {
   "cell_type": "code",
   "execution_count": 41,
   "metadata": {},
   "outputs": [
    {
     "data": {
      "text/plain": [
       "Date                       0\n",
       "Rented Bike Count          0\n",
       "Hour                       0\n",
       "Temp                       0\n",
       "Humidity(%)                0\n",
       "Wind speed (m/s)           0\n",
       "Visibility (10m)           0\n",
       "Dew_Pt_Temp                0\n",
       "Solar Radiation (MJ/m2)    0\n",
       "Rainfall(mm)               0\n",
       "Snowfall (cm)              0\n",
       "Seasons                    0\n",
       "Holiday                    0\n",
       "Functioning Day            0\n",
       "dtype: int64"
      ]
     },
     "execution_count": 41,
     "metadata": {},
     "output_type": "execute_result"
    }
   ],
   "source": [
    "#check for no missing values\n",
    "df.isna().sum()"
   ]
  },
  {
   "cell_type": "code",
   "execution_count": 42,
   "metadata": {},
   "outputs": [],
   "source": [
    "#convert as datetime to date\n",
    "df['Date']=pd.to_datetime(df['Date'],format=\"%d/%m/%Y\")"
   ]
  },
  {
   "cell_type": "code",
   "execution_count": 43,
   "metadata": {},
   "outputs": [
    {
     "data": {
      "image/png": "[encoded data removed]",
      "text/plain": [
       "<Figure size 864x864 with 2 Axes>"
      ]
     },
     "metadata": {
      "needs_background": "light"
     },
     "output_type": "display_data"
    }
   ],
   "source": [
    "#correlation between variables\n",
    "plt.figure(figsize=(12,12))\n",
    "sns.heatmap(df.corr(\"pearson\"),\n",
    "            vmin=-1, vmax=1,\n",
    "            cmap='bwr',\n",
    "            annot=True, \n",
    "            square=True);"
   ]
  },
  {
   "cell_type": "code",
   "execution_count": 44,
   "metadata": {},
   "outputs": [
    {
     "data": {
      "text/html": [
       "<style  type=\"text/css\" >\n",
       "    #T_b61c8c9e_e115_11eb_b966_e68936368509row0_col0 {\n",
       "            background-color:  #0000ff;\n",
       "            color:  #f1f1f1;\n",
       "        }    #T_b61c8c9e_e115_11eb_b966_e68936368509row1_col0 {\n",
       "            background-color:  #0d0daa;\n",
       "            color:  #f1f1f1;\n",
       "        }    #T_b61c8c9e_e115_11eb_b966_e68936368509row2_col0 {\n",
       "            background-color:  #111193;\n",
       "            color:  #f1f1f1;\n",
       "        }    #T_b61c8c9e_e115_11eb_b966_e68936368509row3_col0 {\n",
       "            background-color:  #12128d;\n",
       "            color:  #f1f1f1;\n",
       "        }    #T_b61c8c9e_e115_11eb_b966_e68936368509row4_col0 {\n",
       "            background-color:  #151577;\n",
       "            color:  #f1f1f1;\n",
       "        }    #T_b61c8c9e_e115_11eb_b966_e68936368509row5_col0 {\n",
       "            background-color:  #17176c;\n",
       "            color:  #f1f1f1;\n",
       "        }    #T_b61c8c9e_e115_11eb_b966_e68936368509row6_col0 {\n",
       "            background-color:  #19195d;\n",
       "            color:  #f1f1f1;\n",
       "        }    #T_b61c8c9e_e115_11eb_b966_e68936368509row7_col0 {\n",
       "            background-color:  #202030;\n",
       "            color:  #f1f1f1;\n",
       "        }    #T_b61c8c9e_e115_11eb_b966_e68936368509row8_col0 {\n",
       "            background-color:  #20202c;\n",
       "            color:  #f1f1f1;\n",
       "        }    #T_b61c8c9e_e115_11eb_b966_e68936368509row9_col0 {\n",
       "            background-color:  #222222;\n",
       "            color:  #f1f1f1;\n",
       "        }</style><table id=\"T_b61c8c9e_e115_11eb_b966_e68936368509\" ><thead>    <tr>        <th class=\"blank level0\" ></th>        <th class=\"col_heading level0 col0\" >Correlation to Target</th>    </tr></thead><tbody>\n",
       "                <tr>\n",
       "                        <th id=\"T_b61c8c9e_e115_11eb_b966_e68936368509level0_row0\" class=\"row_heading level0 row0\" >Rented Bike Count</th>\n",
       "                        <td id=\"T_b61c8c9e_e115_11eb_b966_e68936368509row0_col0\" class=\"data row0 col0\" >1.000000</td>\n",
       "            </tr>\n",
       "            <tr>\n",
       "                        <th id=\"T_b61c8c9e_e115_11eb_b966_e68936368509level0_row1\" class=\"row_heading level0 row1\" >Temp</th>\n",
       "                        <td id=\"T_b61c8c9e_e115_11eb_b966_e68936368509row1_col0\" class=\"data row1 col0\" >0.538558</td>\n",
       "            </tr>\n",
       "            <tr>\n",
       "                        <th id=\"T_b61c8c9e_e115_11eb_b966_e68936368509level0_row2\" class=\"row_heading level0 row2\" >Hour</th>\n",
       "                        <td id=\"T_b61c8c9e_e115_11eb_b966_e68936368509row2_col0\" class=\"data row2 col0\" >0.410257</td>\n",
       "            </tr>\n",
       "            <tr>\n",
       "                        <th id=\"T_b61c8c9e_e115_11eb_b966_e68936368509level0_row3\" class=\"row_heading level0 row3\" >Dew_Pt_Temp</th>\n",
       "                        <td id=\"T_b61c8c9e_e115_11eb_b966_e68936368509row3_col0\" class=\"data row3 col0\" >0.379788</td>\n",
       "            </tr>\n",
       "            <tr>\n",
       "                        <th id=\"T_b61c8c9e_e115_11eb_b966_e68936368509level0_row4\" class=\"row_heading level0 row4\" >Solar Radiation (MJ/m2)</th>\n",
       "                        <td id=\"T_b61c8c9e_e115_11eb_b966_e68936368509row4_col0\" class=\"data row4 col0\" >0.261837</td>\n",
       "            </tr>\n",
       "            <tr>\n",
       "                        <th id=\"T_b61c8c9e_e115_11eb_b966_e68936368509level0_row5\" class=\"row_heading level0 row5\" >Visibility (10m)</th>\n",
       "                        <td id=\"T_b61c8c9e_e115_11eb_b966_e68936368509row5_col0\" class=\"data row5 col0\" >0.199280</td>\n",
       "            </tr>\n",
       "            <tr>\n",
       "                        <th id=\"T_b61c8c9e_e115_11eb_b966_e68936368509level0_row6\" class=\"row_heading level0 row6\" >Wind speed (m/s)</th>\n",
       "                        <td id=\"T_b61c8c9e_e115_11eb_b966_e68936368509row6_col0\" class=\"data row6 col0\" >0.121108</td>\n",
       "            </tr>\n",
       "            <tr>\n",
       "                        <th id=\"T_b61c8c9e_e115_11eb_b966_e68936368509level0_row7\" class=\"row_heading level0 row7\" >Rainfall(mm)</th>\n",
       "                        <td id=\"T_b61c8c9e_e115_11eb_b966_e68936368509row7_col0\" class=\"data row7 col0\" >-0.123074</td>\n",
       "            </tr>\n",
       "            <tr>\n",
       "                        <th id=\"T_b61c8c9e_e115_11eb_b966_e68936368509level0_row8\" class=\"row_heading level0 row8\" >Snowfall (cm)</th>\n",
       "                        <td id=\"T_b61c8c9e_e115_11eb_b966_e68936368509row8_col0\" class=\"data row8 col0\" >-0.141804</td>\n",
       "            </tr>\n",
       "            <tr>\n",
       "                        <th id=\"T_b61c8c9e_e115_11eb_b966_e68936368509level0_row9\" class=\"row_heading level0 row9\" >Humidity(%)</th>\n",
       "                        <td id=\"T_b61c8c9e_e115_11eb_b966_e68936368509row9_col0\" class=\"data row9 col0\" >-0.199780</td>\n",
       "            </tr>\n",
       "    </tbody></table>"
      ],
      "text/plain": [
       "<pandas.io.formats.style.Styler at 0x7ff59fda9390>"
      ]
     },
     "execution_count": 44,
     "metadata": {},
     "output_type": "execute_result"
    }
   ],
   "source": [
    "#List of sorted correlation of variables to the target\n",
    "df1Corr=pd.DataFrame(df.corr().unstack().sort_values(ascending=False)['Rented Bike Count'],columns=['Correlation to Target'])\n",
    "df1Corr.style.background_gradient(cmap=sns.dark_palette(\"blue\", as_cmap=True))"
   ]
  },
  {
   "cell_type": "code",
   "execution_count": 45,
   "metadata": {},
   "outputs": [],
   "source": [
    "#Variable to show if it is night or day\n",
    "df['label_day_night']=df['Hour'].apply(lambda x : 'Night' if (x >20 or x<5) else( 'Day'))\n",
    "#Create a column feature which gives the day of the week and the month which corresponds to the date\n",
    "df['WeekDay']=df[\"Date\"].dt.day_name()\n",
    "df['Month']=df['Date'].dt.month"
   ]
  },
  {
   "cell_type": "code",
   "execution_count": 46,
   "metadata": {},
   "outputs": [
    {
     "data": {
      "text/plain": [
       "array([[<matplotlib.axes._subplots.AxesSubplot object at 0x7ff59f9d5e50>,\n",
       "        <matplotlib.axes._subplots.AxesSubplot object at 0x7ff59d52a3d0>,\n",
       "        <matplotlib.axes._subplots.AxesSubplot object at 0x7ff59d4dfa50>],\n",
       "       [<matplotlib.axes._subplots.AxesSubplot object at 0x7ff59d4a2110>,\n",
       "        <matplotlib.axes._subplots.AxesSubplot object at 0x7ff59d456790>,\n",
       "        <matplotlib.axes._subplots.AxesSubplot object at 0x7ff59d40de10>],\n",
       "       [<matplotlib.axes._subplots.AxesSubplot object at 0x7ff59d3d0550>,\n",
       "        <matplotlib.axes._subplots.AxesSubplot object at 0x7ff59d406b10>,\n",
       "        <matplotlib.axes._subplots.AxesSubplot object at 0x7ff59d406b50>],\n",
       "       [<matplotlib.axes._subplots.AxesSubplot object at 0x7ff59d3ca310>,\n",
       "        <matplotlib.axes._subplots.AxesSubplot object at 0x7ff59d335f10>,\n",
       "        <matplotlib.axes._subplots.AxesSubplot object at 0x7ff59d2f85d0>]],\n",
       "      dtype=object)"
      ]
     },
     "execution_count": 46,
     "metadata": {},
     "output_type": "execute_result"
    },
    {
     "data": {
      "image/png": "[encoded data removed]",
      "text/plain": [
       "<Figure size 432x288 with 12 Axes>"
      ]
     },
     "metadata": {
      "needs_background": "light"
     },
     "output_type": "display_data"
    }
   ],
   "source": [
    "#histogram plotting\n",
    "df.hist()"
   ]
  },
  {
   "cell_type": "code",
   "execution_count": null,
   "metadata": {},
   "outputs": [],
   "source": []
  },
  {
   "cell_type": "code",
   "execution_count": 47,
   "metadata": {},
   "outputs": [
    {
     "data": {
      "text/html": [
       "<style  type=\"text/css\" >\n",
       "    #T_b748f44a_e115_11eb_b966_e68936368509row0_col0 {\n",
       "            background-color:  #0000ff;\n",
       "            color:  #f1f1f1;\n",
       "        }    #T_b748f44a_e115_11eb_b966_e68936368509row1_col0 {\n",
       "            background-color:  #0909c2;\n",
       "            color:  #f1f1f1;\n",
       "        }    #T_b748f44a_e115_11eb_b966_e68936368509row2_col0 {\n",
       "            background-color:  #0d0dad;\n",
       "            color:  #f1f1f1;\n",
       "        }    #T_b748f44a_e115_11eb_b966_e68936368509row3_col0 {\n",
       "            background-color:  #222222;\n",
       "            color:  #f1f1f1;\n",
       "        }</style><table id=\"T_b748f44a_e115_11eb_b966_e68936368509\" ><thead>    <tr>        <th class=\"blank level0\" ></th>        <th class=\"col_heading level0 col0\" >Rented Bike Count</th>    </tr>    <tr>        <th class=\"index_name level0\" >Seasons</th>        <th class=\"blank\" ></th>    </tr></thead><tbody>\n",
       "                <tr>\n",
       "                        <th id=\"T_b748f44a_e115_11eb_b966_e68936368509level0_row0\" class=\"row_heading level0 row0\" >Summer</th>\n",
       "                        <td id=\"T_b748f44a_e115_11eb_b966_e68936368509row0_col0\" class=\"data row0 col0\" >2283234</td>\n",
       "            </tr>\n",
       "            <tr>\n",
       "                        <th id=\"T_b748f44a_e115_11eb_b966_e68936368509level0_row1\" class=\"row_heading level0 row1\" >Autumn</th>\n",
       "                        <td id=\"T_b748f44a_e115_11eb_b966_e68936368509row1_col0\" class=\"data row1 col0\" >1790002</td>\n",
       "            </tr>\n",
       "            <tr>\n",
       "                        <th id=\"T_b748f44a_e115_11eb_b966_e68936368509level0_row2\" class=\"row_heading level0 row2\" >Spring</th>\n",
       "                        <td id=\"T_b748f44a_e115_11eb_b966_e68936368509row2_col0\" class=\"data row2 col0\" >1611909</td>\n",
       "            </tr>\n",
       "            <tr>\n",
       "                        <th id=\"T_b748f44a_e115_11eb_b966_e68936368509level0_row3\" class=\"row_heading level0 row3\" >Winter</th>\n",
       "                        <td id=\"T_b748f44a_e115_11eb_b966_e68936368509row3_col0\" class=\"data row3 col0\" >487169</td>\n",
       "            </tr>\n",
       "    </tbody></table>"
      ],
      "text/plain": [
       "<pandas.io.formats.style.Styler at 0x7ff59d5185d0>"
      ]
     },
     "execution_count": 47,
     "metadata": {},
     "output_type": "execute_result"
    }
   ],
   "source": [
    "#Seasons with most rent\n",
    "dfSeasons=pd.DataFrame(df.groupby('Seasons').sum()['Rented Bike Count'].sort_values(ascending=False))\n",
    "dfSeasons.style.background_gradient(cmap=sns.dark_palette(\"blue\", as_cmap=True))"
   ]
  },
  {
   "cell_type": "code",
   "execution_count": 48,
   "metadata": {},
   "outputs": [
    {
     "data": {
      "text/html": [
       "<style  type=\"text/css\" >\n",
       "    #T_b74ed9d2_e115_11eb_b966_e68936368509row0_col0 {\n",
       "            background-color:  #0000ff;\n",
       "            color:  #f1f1f1;\n",
       "        }    #T_b74ed9d2_e115_11eb_b966_e68936368509row1_col0 {\n",
       "            background-color:  #0505dd;\n",
       "            color:  #f1f1f1;\n",
       "        }    #T_b74ed9d2_e115_11eb_b966_e68936368509row2_col0 {\n",
       "            background-color:  #12128c;\n",
       "            color:  #f1f1f1;\n",
       "        }    #T_b74ed9d2_e115_11eb_b966_e68936368509row3_col0 {\n",
       "            background-color:  #222222;\n",
       "            color:  #f1f1f1;\n",
       "        }</style><table id=\"T_b74ed9d2_e115_11eb_b966_e68936368509\" ><thead>    <tr>        <th class=\"blank level0\" ></th>        <th class=\"col_heading level0 col0\" >Solar Radiation (MJ/m2)</th>    </tr>    <tr>        <th class=\"index_name level0\" >Seasons</th>        <th class=\"blank\" ></th>    </tr></thead><tbody>\n",
       "                <tr>\n",
       "                        <th id=\"T_b74ed9d2_e115_11eb_b966_e68936368509level0_row0\" class=\"row_heading level0 row0\" >Summer</th>\n",
       "                        <td id=\"T_b74ed9d2_e115_11eb_b966_e68936368509row0_col0\" class=\"data row0 col0\" >1680.850000</td>\n",
       "            </tr>\n",
       "            <tr>\n",
       "                        <th id=\"T_b74ed9d2_e115_11eb_b966_e68936368509level0_row1\" class=\"row_heading level0 row1\" >Spring</th>\n",
       "                        <td id=\"T_b74ed9d2_e115_11eb_b966_e68936368509row1_col0\" class=\"data row1 col0\" >1520.840000</td>\n",
       "            </tr>\n",
       "            <tr>\n",
       "                        <th id=\"T_b74ed9d2_e115_11eb_b966_e68936368509level0_row2\" class=\"row_heading level0 row2\" >Autumn</th>\n",
       "                        <td id=\"T_b74ed9d2_e115_11eb_b966_e68936368509row2_col0\" class=\"data row2 col0\" >1139.650000</td>\n",
       "            </tr>\n",
       "            <tr>\n",
       "                        <th id=\"T_b74ed9d2_e115_11eb_b966_e68936368509level0_row3\" class=\"row_heading level0 row3\" >Winter</th>\n",
       "                        <td id=\"T_b74ed9d2_e115_11eb_b966_e68936368509row3_col0\" class=\"data row3 col0\" >644.070000</td>\n",
       "            </tr>\n",
       "    </tbody></table>"
      ],
      "text/plain": [
       "<pandas.io.formats.style.Styler at 0x7ff59d0bdcd0>"
      ]
     },
     "execution_count": 48,
     "metadata": {},
     "output_type": "execute_result"
    }
   ],
   "source": [
    "#check to see if summer rentals are linked to solar radiation\n",
    "dfSolRad=pd.DataFrame(df.groupby('Seasons').sum()['Solar Radiation (MJ/m2)'].sort_values(ascending=False))\n",
    "dfSolRad.style.background_gradient(cmap=sns.dark_palette(\"blue\", as_cmap=True))"
   ]
  },
  {
   "cell_type": "code",
   "execution_count": 49,
   "metadata": {},
   "outputs": [
    {
     "data": {
      "text/plain": [
       "<matplotlib.axes._subplots.AxesSubplot at 0x7ff59d0c2750>"
      ]
     },
     "execution_count": 49,
     "metadata": {},
     "output_type": "execute_result"
    },
    {
     "data": {
      "image/png": "[encoded data removed]",
      "text/plain": [
       "<Figure size 432x288 with 1 Axes>"
      ]
     },
     "metadata": {
      "needs_background": "light"
     },
     "output_type": "display_data"
    }
   ],
   "source": [
    "#plot of season rentals\n",
    "df.groupby('Seasons').sum()['Rented Bike Count'].plot.bar()"
   ]
  },
  {
   "cell_type": "code",
   "execution_count": 50,
   "metadata": {},
   "outputs": [
    {
     "data": {
      "text/plain": [
       "<matplotlib.axes._subplots.AxesSubplot at 0x7ff59d023c50>"
      ]
     },
     "execution_count": 50,
     "metadata": {},
     "output_type": "execute_result"
    },
    {
     "data": {
      "image/png": "[encoded data removed]",
      "text/plain": [
       "<Figure size 432x288 with 1 Axes>"
      ]
     },
     "metadata": {
      "needs_background": "light"
     },
     "output_type": "display_data"
    }
   ],
   "source": [
    "#amount of rented bikes is large when there is solar radiation (around 1000 rentals)\n",
    "df.groupby('Solar Radiation (MJ/m2)').mean()['Rented Bike Count'].plot()"
   ]
  },
  {
   "cell_type": "code",
   "execution_count": 51,
   "metadata": {},
   "outputs": [
    {
     "data": {
      "text/html": [
       "<style  type=\"text/css\" >\n",
       "    #T_b78f3e3c_e115_11eb_b966_e68936368509row0_col0 {\n",
       "            background-color:  #0000ff;\n",
       "            color:  #f1f1f1;\n",
       "        }    #T_b78f3e3c_e115_11eb_b966_e68936368509row1_col0 {\n",
       "            background-color:  #0505dd;\n",
       "            color:  #f1f1f1;\n",
       "        }    #T_b78f3e3c_e115_11eb_b966_e68936368509row2_col0 {\n",
       "            background-color:  #0808cd;\n",
       "            color:  #f1f1f1;\n",
       "        }    #T_b78f3e3c_e115_11eb_b966_e68936368509row3_col0 {\n",
       "            background-color:  #0d0dab;\n",
       "            color:  #f1f1f1;\n",
       "        }    #T_b78f3e3c_e115_11eb_b966_e68936368509row4_col0 {\n",
       "            background-color:  #12128d;\n",
       "            color:  #f1f1f1;\n",
       "        }    #T_b78f3e3c_e115_11eb_b966_e68936368509row5_col0 {\n",
       "            background-color:  #121287;\n",
       "            color:  #f1f1f1;\n",
       "        }    #T_b78f3e3c_e115_11eb_b966_e68936368509row6_col0 {\n",
       "            background-color:  #222222;\n",
       "            color:  #f1f1f1;\n",
       "        }</style><table id=\"T_b78f3e3c_e115_11eb_b966_e68936368509\" ><thead>    <tr>        <th class=\"blank level0\" ></th>        <th class=\"col_heading level0 col0\" >Rented Bike Count</th>    </tr>    <tr>        <th class=\"index_name level0\" >WeekDay</th>        <th class=\"blank\" ></th>    </tr></thead><tbody>\n",
       "                <tr>\n",
       "                        <th id=\"T_b78f3e3c_e115_11eb_b966_e68936368509level0_row0\" class=\"row_heading level0 row0\" >Friday</th>\n",
       "                        <td id=\"T_b78f3e3c_e115_11eb_b966_e68936368509row0_col0\" class=\"data row0 col0\" >950334</td>\n",
       "            </tr>\n",
       "            <tr>\n",
       "                        <th id=\"T_b78f3e3c_e115_11eb_b966_e68936368509level0_row1\" class=\"row_heading level0 row1\" >Wednesday</th>\n",
       "                        <td id=\"T_b78f3e3c_e115_11eb_b966_e68936368509row1_col0\" class=\"data row1 col0\" >923956</td>\n",
       "            </tr>\n",
       "            <tr>\n",
       "                        <th id=\"T_b78f3e3c_e115_11eb_b966_e68936368509level0_row2\" class=\"row_heading level0 row2\" >Monday</th>\n",
       "                        <td id=\"T_b78f3e3c_e115_11eb_b966_e68936368509row2_col0\" class=\"data row2 col0\" >911743</td>\n",
       "            </tr>\n",
       "            <tr>\n",
       "                        <th id=\"T_b78f3e3c_e115_11eb_b966_e68936368509level0_row3\" class=\"row_heading level0 row3\" >Saturday</th>\n",
       "                        <td id=\"T_b78f3e3c_e115_11eb_b966_e68936368509row3_col0\" class=\"data row3 col0\" >885492</td>\n",
       "            </tr>\n",
       "            <tr>\n",
       "                        <th id=\"T_b78f3e3c_e115_11eb_b966_e68936368509level0_row4\" class=\"row_heading level0 row4\" >Thursday</th>\n",
       "                        <td id=\"T_b78f3e3c_e115_11eb_b966_e68936368509row4_col0\" class=\"data row4 col0\" >861999</td>\n",
       "            </tr>\n",
       "            <tr>\n",
       "                        <th id=\"T_b78f3e3c_e115_11eb_b966_e68936368509level0_row5\" class=\"row_heading level0 row5\" >Tuesday</th>\n",
       "                        <td id=\"T_b78f3e3c_e115_11eb_b966_e68936368509row5_col0\" class=\"data row5 col0\" >858596</td>\n",
       "            </tr>\n",
       "            <tr>\n",
       "                        <th id=\"T_b78f3e3c_e115_11eb_b966_e68936368509level0_row6\" class=\"row_heading level0 row6\" >Sunday</th>\n",
       "                        <td id=\"T_b78f3e3c_e115_11eb_b966_e68936368509row6_col0\" class=\"data row6 col0\" >780194</td>\n",
       "            </tr>\n",
       "    </tbody></table>"
      ],
      "text/plain": [
       "<pandas.io.formats.style.Styler at 0x7ff59d225190>"
      ]
     },
     "execution_count": 51,
     "metadata": {},
     "output_type": "execute_result"
    }
   ],
   "source": [
    "#highest rented days are week days\n",
    "#people are likely renting bikes to go to work or school\n",
    "dfDays=pd.DataFrame(df.groupby('WeekDay').sum()['Rented Bike Count'].sort_values(ascending=False))\n",
    "dfDays.style.background_gradient(cmap=sns.dark_palette(\"blue\", as_cmap=True))"
   ]
  },
  {
   "cell_type": "code",
   "execution_count": 52,
   "metadata": {},
   "outputs": [
    {
     "data": {
      "text/plain": [
       "<matplotlib.axes._subplots.AxesSubplot at 0x7ff5c8748490>"
      ]
     },
     "execution_count": 52,
     "metadata": {},
     "output_type": "execute_result"
    },
    {
     "data": {
      "image/png": "[encoded data removed]",
      "text/plain": [
       "<Figure size 432x288 with 1 Axes>"
      ]
     },
     "metadata": {
      "needs_background": "light"
     },
     "output_type": "display_data"
    }
   ],
   "source": [
    "#mumber of the rents by hour in a graph\n",
    "df.groupby('Hour').sum()['Rented Bike Count'].plot.bar()"
   ]
  },
  {
   "cell_type": "code",
   "execution_count": 62,
   "metadata": {},
   "outputs": [
    {
     "data": {
      "text/plain": [
       "<matplotlib.axes._subplots.AxesSubplot at 0x7ff59c05a650>"
      ]
     },
     "execution_count": 62,
     "metadata": {},
     "output_type": "execute_result"
    },
    {
     "data": {
      "image/png": "[encoded data removed]",
      "text/plain": [
       "<Figure size 432x288 with 1 Axes>"
      ]
     },
     "metadata": {
      "needs_background": "light"
     },
     "output_type": "display_data"
    }
   ],
   "source": [
    "#rentals for different temperatures\n",
    "df.groupby('Temp').mean()['Rented Bike Count'].plot.bar()"
   ]
  },
  {
   "cell_type": "code",
   "execution_count": 61,
   "metadata": {},
   "outputs": [
    {
     "data": {
      "text/plain": [
       "<matplotlib.axes._subplots.AxesSubplot at 0x7ff59c284350>"
      ]
     },
     "execution_count": 61,
     "metadata": {},
     "output_type": "execute_result"
    },
    {
     "data": {
      "image/png": "[encoded data removed]",
      "text/plain": [
       "<Figure size 432x288 with 1 Axes>"
      ]
     },
     "metadata": {
      "needs_background": "light"
     },
     "output_type": "display_data"
    }
   ],
   "source": [
    "#bar of day rental vs night rentals\n",
    "df.groupby('label_day_night').sum()['Rented Bike Count'].plot.bar()"
   ]
  },
  {
   "cell_type": "code",
   "execution_count": 63,
   "metadata": {},
   "outputs": [
    {
     "data": {
      "text/plain": [
       "<matplotlib.axes._subplots.AxesSubplot at 0x7ff5979f0a10>"
      ]
     },
     "execution_count": 63,
     "metadata": {},
     "output_type": "execute_result"
    },
    {
     "data": {
      "image/png": "[encoded data removed]",
      "text/plain": [
       "<Figure size 432x288 with 1 Axes>"
      ]
     },
     "metadata": {
      "needs_background": "light"
     },
     "output_type": "display_data"
    }
   ],
   "source": [
    "#we see that that there are more rentals on a non-holiday\n",
    "df.groupby('Holiday').sum()['Rented Bike Count'].plot.bar()"
   ]
  },
  {
   "cell_type": "code",
   "execution_count": 53,
   "metadata": {},
   "outputs": [
    {
     "name": "stdout",
     "output_type": "stream",
     "text": [
      "                         Rented Bike Count          Hour         Temp  \\\n",
      "Rented Bike Count            416021.733390  1.831818e+03  4149.257754   \n",
      "Hour                           1831.818358  4.792214e+01    10.262907   \n",
      "Temp                           4149.257754  1.026291e+01   142.678850   \n",
      "Humidity(%)                   -2623.853782 -3.406222e+01    38.763038   \n",
      "Wind speed (m/s)                 80.950203  2.045964e+00    -0.448739   \n",
      "Visibility (10m)              78187.849382  4.158507e+02   252.817084   \n",
      "Dew_Pt_Temp                    3199.299111  2.761502e-01   142.400017   \n",
      "Solar Radiation (MJ/m2)         146.717508  8.728125e-01     3.668334   \n",
      "Rainfall(mm)                    -89.558657  6.806142e-02     0.677602   \n",
      "Snowfall (cm)                   -39.946114 -6.505309e-02    -1.139387   \n",
      "Month                           296.932610  2.595886e-17     8.903767   \n",
      "\n",
      "                         Humidity(%)  Wind speed (m/s)  Visibility (10m)  \\\n",
      "Rented Bike Count       -2623.853782         80.950203      78187.849382   \n",
      "Hour                      -34.062222          2.045964        415.850668   \n",
      "Temp                       38.763038         -0.448739        252.817084   \n",
      "Humidity(%)               414.627875         -7.104540      -6726.950421   \n",
      "Wind speed (m/s)           -7.104540          1.073918        108.114660   \n",
      "Visibility (10m)        -6726.950421        108.114660     370027.323001   \n",
      "Dew_Pt_Temp               142.782065         -2.388639      -1403.253586   \n",
      "Solar Radiation (MJ/m2)    -8.171237          0.299140         79.130141   \n",
      "Rainfall(mm)                5.430677         -0.023002       -115.040313   \n",
      "Snowfall (cm)               0.962098         -0.001609        -32.330842   \n",
      "Month                       9.820689         -0.559959        136.069953   \n",
      "\n",
      "                         Dew_Pt_Temp  Solar Radiation (MJ/m2)  Rainfall(mm)  \\\n",
      "Rented Bike Count        3199.299111               146.717508    -89.558657   \n",
      "Hour                        0.276150                 0.872813      0.068061   \n",
      "Temp                      142.400017                 3.668334      0.677602   \n",
      "Humidity(%)               142.782065                -8.171237      5.430677   \n",
      "Wind speed (m/s)           -2.388639                 0.299140     -0.023002   \n",
      "Visibility (10m)        -1403.253586                79.130141   -115.040313   \n",
      "Dew_Pt_Temp               170.573247                 1.070865      1.850620   \n",
      "Solar Radiation (MJ/m2)     1.070865                 0.754720     -0.072813   \n",
      "Rainfall(mm)                1.850620                -0.072813      1.272819   \n",
      "Snowfall (cm)              -0.860668                -0.027432      0.004188   \n",
      "Month                      10.922785                -0.094643      0.046518   \n",
      "\n",
      "                         Snowfall (cm)         Month  \n",
      "Rented Bike Count           -39.946114  2.969326e+02  \n",
      "Hour                         -0.065053  2.595886e-17  \n",
      "Temp                         -1.139387  8.903767e+00  \n",
      "Humidity(%)                   0.962098  9.820689e+00  \n",
      "Wind speed (m/s)             -0.001609 -5.599588e-01  \n",
      "Visibility (10m)            -32.330842  1.360700e+02  \n",
      "Dew_Pt_Temp                  -0.860668  1.092278e+01  \n",
      "Solar Radiation (MJ/m2)      -0.027432 -9.464348e-02  \n",
      "Rainfall(mm)                  0.004188  4.651779e-02  \n",
      "Snowfall (cm)                 0.190747  7.999593e-02  \n",
      "Month                         0.079996  1.188904e+01  \n"
     ]
    }
   ],
   "source": [
    "#covariance calculation\n",
    "coVar = df.cov()\n",
    "print(coVar)"
   ]
  },
  {
   "cell_type": "code",
   "execution_count": 54,
   "metadata": {},
   "outputs": [],
   "source": [
    "# Correlation coefficient matrix\n",
    "corrMat = df.corr()"
   ]
  },
  {
   "cell_type": "code",
   "execution_count": 55,
   "metadata": {},
   "outputs": [
    {
     "data": {
      "text/plain": [
       "array([[<matplotlib.axes._subplots.AxesSubplot object at 0x7ff59cf5ed50>]],\n",
       "      dtype=object)"
      ]
     },
     "execution_count": 55,
     "metadata": {},
     "output_type": "execute_result"
    },
    {
     "data": {
      "image/png": "[encoded data removed]",
      "text/plain": [
       "<Figure size 432x288 with 1 Axes>"
      ]
     },
     "metadata": {
      "needs_background": "light"
     },
     "output_type": "display_data"
    }
   ],
   "source": [
    "# Histogram of rented bike count \n",
    "df.hist('Rented Bike Count')"
   ]
  },
  {
   "cell_type": "code",
   "execution_count": 56,
   "metadata": {},
   "outputs": [
    {
     "data": {
      "text/plain": [
       "<seaborn.axisgrid.FacetGrid at 0x7ff59ce8c1d0>"
      ]
     },
     "execution_count": 56,
     "metadata": {},
     "output_type": "execute_result"
    },
    {
     "data": {
      "image/png": "[encoded data removed]",
      "text/plain": [
       "<Figure size 1158.12x216 with 1 Axes>"
      ]
     },
     "metadata": {
      "needs_background": "light"
     },
     "output_type": "display_data"
    }
   ],
   "source": [
    "# Graph of Rented Bike Count by Season \n",
    "fig = sns.FacetGrid(df, hue='Seasons', aspect=5)\n",
    "fig.map(sns.kdeplot, 'Rented Bike Count', shade=True)\n",
    "fig.add_legend()\n",
    "# Less than 500 people biking in winter, more than 500 bikers in summer usually"
   ]
  },
  {
   "cell_type": "code",
   "execution_count": null,
   "metadata": {},
   "outputs": [],
   "source": []
  },
  {
   "cell_type": "code",
   "execution_count": null,
   "metadata": {},
   "outputs": [],
   "source": []
  },
  {
   "cell_type": "code",
   "execution_count": null,
   "metadata": {},
   "outputs": [],
   "source": []
  }
 ],
 "metadata": {
  "kernelspec": {
   "display_name": "Python 3",
   "language": "python",
   "name": "python3"
  },
  "language_info": {
   "codemirror_mode": {
    "name": "ipython",
    "version": 3
   },
   "file_extension": ".py",
   "mimetype": "text/x-python",
   "name": "python",
   "nbconvert_exporter": "python",
   "pygments_lexer": "ipython3",
   "version": "3.7.6"
  }
 },
 "nbformat": 4,
 "nbformat_minor": 4
}
